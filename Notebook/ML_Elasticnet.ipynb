{
 "cells": [
  {
   "cell_type": "code",
   "execution_count": 238,
   "metadata": {},
   "outputs": [],
   "source": [
    "import pandas as pd \n",
    "import numpy as np\n",
    "import matplotlib.pyplot as plt "
   ]
  },
  {
   "cell_type": "code",
   "execution_count": 239,
   "metadata": {},
   "outputs": [],
   "source": [
    "def gen_data(rows, cols):\n",
    "    np.random.seed(10)\n",
    "    X = np.random.randn(rows, cols)\n",
    "\n",
    "    t_coff = np.random.randn(cols)\n",
    "    t_coff[2:5] = 0\n",
    "\n",
    "    noise = np.random.randn(rows) * 0.4\n",
    "    y = np.dot(X, t_coff) + noise\n",
    "\n",
    "    df = pd.DataFrame(X, columns = [f'feature_{i+1}' for i in range(cols)])\n",
    "    df['target'] = y\n",
    "    \n",
    "    x = df.drop(\"target\", axis = 1)\n",
    "    Y   = df[\"target\"]\n",
    "    \n",
    "    return x, Y"
   ]
  },
  {
   "cell_type": "code",
   "execution_count": 240,
   "metadata": {},
   "outputs": [],
   "source": [
    "def linear_data_generator(m,N,b,rnge =[-10,10], scale = 1, random_seed = 8675309 ):\n",
    "        rng = np.random.default_rng(seed=random_seed)\n",
    "        sample = rng.uniform(low=rnge[0], high=rnge[1], size=(N, len(m)))\n",
    "        m_reshaped = np.array(m).reshape(-1,1)\n",
    "        ys = np.dot(sample, m_reshaped) + b\n",
    "        noise = rng.normal(loc=0., scale=scale, size=ys.shape)\n",
    "        return sample, (ys + noise).flatten()"
   ]
  },
  {
   "cell_type": "code",
   "execution_count": 241,
   "metadata": {},
   "outputs": [],
   "source": [
    "def train_test_split(x, y, test_size): \n",
    "    np.random.seed(10)\n",
    "    \n",
    "    rows = x.shape[0]\n",
    "    test = int(rows * test_size)\n",
    "    test_index = np.random.choice(rows,test, replace= False)\n",
    "    \n",
    "    dublicate = np.zeros(rows, dtype=bool)\n",
    "    dublicate[test_index] = True\n",
    "\n",
    "    if isinstance(x, pd.DataFrame):\n",
    "        X_train = x[~dublicate].reset_index(drop=True)\n",
    "        X_test = x[dublicate].reset_index(drop=True)\n",
    "    else:\n",
    "        X_train = x[~dublicate]\n",
    "        X_test = x[dublicate]\n",
    "    \n",
    "    if isinstance(y, pd.Series):\n",
    "        y_train = y[~dublicate].reset_index(drop=True)\n",
    "        y_test = y[dublicate].reset_index(drop=True)\n",
    "    else:\n",
    "        y_train = y[~dublicate]\n",
    "        y_test = y[dublicate]\n",
    "    \n",
    "    return X_train, X_test, y_train, y_test"
   ]
  },
  {
   "cell_type": "code",
   "execution_count": 242,
   "metadata": {},
   "outputs": [],
   "source": [
    "class ElasticNetModel: \n",
    "    def __init__(self,\n",
    "                 alpha =0.01,\n",
    "                 penalty_ratio = 0.1,\n",
    "                 learning_rate = 0.001,\n",
    "                 iterations = 150000):\n",
    "        \n",
    "        self.alpha = alpha\n",
    "        self.penalty_ratio = penalty_ratio\n",
    "        self.learning_rate = learning_rate\n",
    "        self.iterations = iterations\n",
    "        self.weights = None\n",
    "        self.bias = 0 \n",
    "        \n",
    "    def linear_reg_model(self, x_test): \n",
    "        return np.dot(x_test, self.weights) + self.bias\n",
    "    \n",
    "    def l1_penalty(self):\n",
    "        return self.penalty_ratio * np.sign(self.weights)\n",
    "    \n",
    "    def l2_penalty(self):\n",
    "        return (1 - self.penalty_ratio) * self.weights\n",
    "    \n",
    "\n",
    "    \n",
    "    def ourfit(self, X_train, y_train):\n",
    "        \n",
    "        if isinstance(X_train, (pd.DataFrame, pd.Series)):\n",
    "            X_train = X_train.to_numpy()\n",
    "        if isinstance(y_train, (pd.DataFrame, pd.Series)):\n",
    "            y_train = y_train.to_numpy()\n",
    "        \n",
    "        rows, cols = X_train.shape\n",
    "        # self.weights = np.zeros(cols)   \n",
    "        \n",
    "        # if y_train.ndim > 1:\n",
    "        #     y_train = y_train.flatten()\n",
    "        \n",
    "        self.weights = np.zeros(cols)\n",
    "        \n",
    "        for i in range(self.iterations):\n",
    "            y_pred = self.linear_reg_model(X_train)\n",
    "            residuals = y_pred - y_train\n",
    "            \n",
    "            # print(residuals)\n",
    "            \n",
    "            gradients_w = (1 / rows) * np.dot(X_train.T, residuals)\n",
    "            gradients_b = (1 / rows) * np.sum(residuals)\n",
    "            \n",
    "            # print(gradients_w,gradients_b)\n",
    "            \n",
    "            self.weights -= self.learning_rate * (gradients_w + self.alpha * (self.l1_penalty() + self.l2_penalty()))\n",
    "            self.bias -= self.learning_rate * gradients_b\n",
    "            \n",
    "            if i % 1000 == 0:\n",
    "                loss = (1 / rows) * np.sum((y_train - y_pred) ** 2) \n",
    "                # print(f\"Iteration {i}, Loss: {loss}\")\n",
    "  \n",
    "    def predict(self, X_test):\n",
    "        if isinstance(X_test, (pd.DataFrame, pd.Series)):\n",
    "            X_test = X_test.to_numpy()\n",
    "        return self.linear_reg_model(X_test)\n",
    "    \n",
    "    def r2_score(self, y_true, y_pred):\n",
    "        ss_total = np.sum((y_true - np.mean(y_true)) ** 2)\n",
    "        ss_residual = np.sum((y_true - y_pred) ** 2)\n",
    "        r2 = 1 - (ss_residual / ss_total)\n",
    "        return r2 "
   ]
  },
  {
   "cell_type": "code",
   "execution_count": 243,
   "metadata": {},
   "outputs": [],
   "source": [
    "def standardize(X_train, X_test):\n",
    "    mean = X_train.mean()\n",
    "    std = X_train.std()\n",
    "    X_train_std = (X_train - mean)/std\n",
    "    X_test_std = (X_test - mean)/std\n",
    "    return X_train_std, X_test_std"
   ]
  },
  {
   "cell_type": "markdown",
   "metadata": {},
   "source": [
    "## Waves 35 DataSet using Our Elastic Net Model "
   ]
  },
  {
   "cell_type": "code",
   "execution_count": 244,
   "metadata": {},
   "outputs": [
    {
     "data": {
      "text/plain": [
       "Traceback (most recent call last):\n",
       "  File \"c:\\Users\\Asus\\.vscode\\extensions\\ms-python.python-2024.16.1-win32-x64\\python_files\\python_server.py\", line 130, in exec_user_input\n",
       "    retval = callable_(user_input, user_globals)\n",
       "             ^^^^^^^^^^^^^^^^^^^^^^^^^^^^^^^^^^^\n",
       "  File \"<string>\", line 1, in <module>\n",
       "  File \"C:\\Users\\Asus\\AppData\\Local\\Programs\\Python\\Python311\\Lib\\site-packages\\pandas\\io\\parsers\\readers.py\", line 912, in read_csv\n",
       "    return _read(filepath_or_buffer, kwds)\n",
       "           ^^^^^^^^^^^^^^^^^^^^^^^^^^^^^^^\n",
       "  File \"C:\\Users\\Asus\\AppData\\Local\\Programs\\Python\\Python311\\Lib\\site-packages\\pandas\\io\\parsers\\readers.py\", line 577, in _read\n",
       "    parser = TextFileReader(filepath_or_buffer, **kwds)\n",
       "             ^^^^^^^^^^^^^^^^^^^^^^^^^^^^^^^^^^^^^^^^^^\n",
       "  File \"C:\\Users\\Asus\\AppData\\Local\\Programs\\Python\\Python311\\Lib\\site-packages\\pandas\\io\\parsers\\readers.py\", line 1407, in __init__\n",
       "    self._engine = self._make_engine(f, self.engine)\n",
       "                   ^^^^^^^^^^^^^^^^^^^^^^^^^^^^^^^^^\n",
       "  File \"C:\\Users\\Asus\\AppData\\Local\\Programs\\Python\\Python311\\Lib\\site-packages\\pandas\\io\\parsers\\readers.py\", line 1661, in _make_engine\n",
       "    self.handles = get_handle(\n",
       "                   ^^^^^^^^^^^\n",
       "  File \"C:\\Users\\Asus\\AppData\\Local\\Programs\\Python\\Python311\\Lib\\site-packages\\pandas\\io\\common.py\", line 859, in get_handle\n",
       "    handle = open(\n",
       "             ^^^^^\n",
       "FileNotFoundError: [Errno 2] No such file or directory: 'DATASET/35.waves (1).csv'\n",
       "\n"
      ]
     },
     "metadata": {},
     "output_type": "display_data"
    }
   ],
   "source": [
    "waves35_df = pd.read_csv(\"DATASET/35.waves (1).csv\")\n",
    "\n",
    "waves35_X = waves35_df.drop(\"WVHT\", axis=1)\n",
    "waves35_y = waves35_df['WVHT']\n",
    "\n",
    "waves35_X.shape, waves35_y.shape"
   ]
  },
  {
   "cell_type": "code",
   "execution_count": 245,
   "metadata": {},
   "outputs": [
    {
     "data": {
      "text/plain": [
       "Traceback (most recent call last):\n",
       "  File \"c:\\Users\\Asus\\.vscode\\extensions\\ms-python.python-2024.16.1-win32-x64\\python_files\\python_server.py\", line 130, in exec_user_input\n",
       "    retval = callable_(user_input, user_globals)\n",
       "             ^^^^^^^^^^^^^^^^^^^^^^^^^^^^^^^^^^^\n",
       "  File \"<string>\", line 1, in <module>\n",
       "NameError: name 'waves35_y' is not defined\n",
       "\n"
      ]
     },
     "metadata": {},
     "output_type": "display_data"
    }
   ],
   "source": [
    "waves35_y.dtype"
   ]
  },
  {
   "cell_type": "code",
   "execution_count": 246,
   "metadata": {},
   "outputs": [
    {
     "data": {
      "text/plain": [
       "Traceback (most recent call last):\n",
       "  File \"c:\\Users\\Asus\\.vscode\\extensions\\ms-python.python-2024.16.1-win32-x64\\python_files\\python_server.py\", line 130, in exec_user_input\n",
       "    retval = callable_(user_input, user_globals)\n",
       "             ^^^^^^^^^^^^^^^^^^^^^^^^^^^^^^^^^^^\n",
       "  File \"<string>\", line 1, in <module>\n",
       "NameError: name 'waves35_X' is not defined\n",
       "\n"
      ]
     },
     "metadata": {},
     "output_type": "display_data"
    }
   ],
   "source": [
    "waves35_X_train, waves35_X_test, waves35_y_train, waves35_y_test = train_test_split(waves35_X,waves35_y, test_size=0.2)\n",
    "\n",
    "waves35_X_train.shape, waves35_X_test.shape, waves35_y_train.shape, waves35_y_test.shape"
   ]
  },
  {
   "cell_type": "code",
   "execution_count": 247,
   "metadata": {},
   "outputs": [
    {
     "data": {
      "text/plain": [
       "Traceback (most recent call last):\n",
       "  File \"c:\\Users\\Asus\\.vscode\\extensions\\ms-python.python-2024.16.1-win32-x64\\python_files\\python_server.py\", line 130, in exec_user_input\n",
       "    retval = callable_(user_input, user_globals)\n",
       "             ^^^^^^^^^^^^^^^^^^^^^^^^^^^^^^^^^^^\n",
       "  File \"<string>\", line 1, in <module>\n",
       "NameError: name 'waves35_X_train' is not defined\n",
       "\n"
      ]
     },
     "metadata": {},
     "output_type": "display_data"
    }
   ],
   "source": [
    "waves35_X_train_std, waves35_X_test_std = standardize(waves35_X_train, waves35_X_test)\n",
    "\n",
    "waves35_X_train_std.shape, waves35_X_test_std.shape"
   ]
  },
  {
   "cell_type": "code",
   "execution_count": 248,
   "metadata": {},
   "outputs": [
    {
     "data": {
      "text/plain": [
       "Traceback (most recent call last):\n",
       "  File \"c:\\Users\\Asus\\.vscode\\extensions\\ms-python.python-2024.16.1-win32-x64\\python_files\\python_server.py\", line 130, in exec_user_input\n",
       "    retval = callable_(user_input, user_globals)\n",
       "             ^^^^^^^^^^^^^^^^^^^^^^^^^^^^^^^^^^^\n",
       "  File \"<string>\", line 6, in <module>\n",
       "NameError: name 'waves35_X_train_std' is not defined\n",
       "\n"
      ]
     },
     "metadata": {},
     "output_type": "display_data"
    }
   ],
   "source": [
    "waves35_model = ElasticNetModel(alpha = 0.01,\n",
    "                   penalty_ratio = 0.5,\n",
    "                   learning_rate =0.001,\n",
    "                   iterations= 10000)\n",
    "\n",
    "waves35_model.ourfit(waves35_X_train_std.values, waves35_y_train.values)\n",
    "\n",
    "from sklearn.linear_model import ElasticNet\n",
    "waves35_SkModel = ElasticNet(alpha =0.01,\n",
    "                             l1_ratio= 0.5,\n",
    "                             max_iter=10000)\n",
    "waves35_SkModel.fit(waves35_X_train_std.values, waves35_y_train.values)\n"
   ]
  },
  {
   "cell_type": "code",
   "execution_count": 249,
   "metadata": {},
   "outputs": [
    {
     "data": {
      "text/plain": [
       "Traceback (most recent call last):\n",
       "  File \"c:\\Users\\Asus\\.vscode\\extensions\\ms-python.python-2024.16.1-win32-x64\\python_files\\python_server.py\", line 130, in exec_user_input\n",
       "    retval = callable_(user_input, user_globals)\n",
       "             ^^^^^^^^^^^^^^^^^^^^^^^^^^^^^^^^^^^\n",
       "  File \"<string>\", line 1, in <module>\n",
       "NameError: name 'waves35_X_test_std' is not defined\n",
       "\n"
      ]
     },
     "metadata": {},
     "output_type": "display_data"
    }
   ],
   "source": [
    "waves35_y_pred =  waves35_model.predict(waves35_X_test_std.values)\n",
    "Skwaves35_y_pred =  waves35_SkModel.predict(waves35_X_test_std.values)"
   ]
  },
  {
   "cell_type": "code",
   "execution_count": 250,
   "metadata": {},
   "outputs": [
    {
     "data": {
      "text/plain": [
       "Traceback (most recent call last):\n",
       "  File \"c:\\Users\\Asus\\.vscode\\extensions\\ms-python.python-2024.16.1-win32-x64\\python_files\\python_server.py\", line 130, in exec_user_input\n",
       "    retval = callable_(user_input, user_globals)\n",
       "             ^^^^^^^^^^^^^^^^^^^^^^^^^^^^^^^^^^^\n",
       "  File \"<string>\", line 5, in <module>\n",
       "NameError: name 'waves35_y_test' is not defined\n",
       "\n"
      ]
     },
     "metadata": {},
     "output_type": "display_data"
    }
   ],
   "source": [
    "# print(\"Learned Weights:\", model.weights)\n",
    "# print(\"Learned Bias:\", model.bias)\n",
    "\n",
    "comparison_df = pd.DataFrame({\n",
    "    'Actual Values': waves35_y_test.values,\n",
    "    'Predicted Values': waves35_y_pred\n",
    "})\n",
    "\n",
    "Skcomparison_df = pd.DataFrame({\n",
    "    'Actual Values': waves35_y_test.values,\n",
    "    'Predicted Values': Skwaves35_y_pred\n",
    "})\n",
    "\n",
    "\n",
    "Skcomparison_df.head(20)"
   ]
  },
  {
   "cell_type": "code",
   "execution_count": 251,
   "metadata": {},
   "outputs": [
    {
     "data": {
      "text/plain": [
       "Traceback (most recent call last):\n",
       "  File \"c:\\Users\\Asus\\.vscode\\extensions\\ms-python.python-2024.16.1-win32-x64\\python_files\\python_server.py\", line 130, in exec_user_input\n",
       "    retval = callable_(user_input, user_globals)\n",
       "             ^^^^^^^^^^^^^^^^^^^^^^^^^^^^^^^^^^^\n",
       "  File \"<string>\", line 1, in <module>\n",
       "NameError: name 'comparison_df' is not defined\n",
       "\n"
      ]
     },
     "metadata": {},
     "output_type": "display_data"
    }
   ],
   "source": [
    "comparison_df[\"difference\"] = comparison_df['Actual Values'] - comparison_df['Predicted Values']\n",
    "Skcomparison_df[\"difference\"] = Skcomparison_df['Actual Values'] - Skcomparison_df['Predicted Values']\n"
   ]
  },
  {
   "cell_type": "code",
   "execution_count": 252,
   "metadata": {},
   "outputs": [
    {
     "data": {
      "text/plain": [
       "Traceback (most recent call last):\n",
       "  File \"c:\\Users\\Asus\\.vscode\\extensions\\ms-python.python-2024.16.1-win32-x64\\python_files\\python_server.py\", line 130, in exec_user_input\n",
       "    retval = callable_(user_input, user_globals)\n",
       "             ^^^^^^^^^^^^^^^^^^^^^^^^^^^^^^^^^^^\n",
       "  File \"<string>\", line 6, in <module>\n",
       "NameError: name 'comparison_df' is not defined\n",
       "\n"
      ]
     },
     "metadata": {},
     "output_type": "display_data"
    }
   ],
   "source": [
    "import matplotlib.pyplot as plt\n",
    "import numpy as np\n",
    "\n",
    "fig, axs = plt.subplots(1, 2, figsize=(10, 4))\n",
    "\n",
    "axs[0].scatter(comparison_df.index, comparison_df['Actual Values'], color='blue', label='Actual Values', marker='o')\n",
    "axs[0].scatter(comparison_df.index, comparison_df['Predicted Values'], color='red', label='Predicted Values', marker='x')\n",
    "axs[0].plot(comparison_df.index, comparison_df['Actual Values'], color='blue', alpha=0.5)\n",
    "axs[0].plot(comparison_df.index, comparison_df['Predicted Values'], color='red', alpha=0.5)\n",
    "axs[0].set_title('Actual vs Predicted Values - Custom ElasticNet')\n",
    "axs[0].set_xlabel('Index')\n",
    "axs[0].set_ylabel('Values')\n",
    "axs[0].legend()\n",
    "axs[0].grid()\n",
    "\n",
    "axs[1].scatter(Skcomparison_df.index, Skcomparison_df['Actual Values'], color='blue', label='Actual Values', marker='o')\n",
    "axs[1].scatter(Skcomparison_df.index, Skcomparison_df['Predicted Values'], color='red', label='Predicted Values', marker='x')\n",
    "axs[1].plot(Skcomparison_df.index, Skcomparison_df['Actual Values'], color='blue', alpha=0.5)\n",
    "axs[1].plot(Skcomparison_df.index, Skcomparison_df['Predicted Values'], color='red', alpha=0.5)\n",
    "axs[1].set_title('Actual vs Predicted Values - Sklearn ElasticNet')\n",
    "axs[1].set_xlabel('Index')\n",
    "axs[1].legend()\n",
    "axs[1].grid()\n",
    "\n",
    "plt.tight_layout()\n",
    "plt.show()\n",
    "\n",
    "custom_mse = np.square(comparison_df[\"difference\"]).mean()\n",
    "custom_mae = np.abs(comparison_df['difference']).mean()\n",
    "custom_r2 = waves35_model.r2_score(waves35_y_test.values, waves35_y_pred)\n",
    "\n",
    "sklearn_mse = np.square(Skcomparison_df[\"difference\"]).mean()\n",
    "sklearn_mae = np.abs(Skcomparison_df['difference']).mean()\n",
    "sklearn_r2 = waves35_model.r2_score(waves35_y_test.values, Skwaves35_y_pred)\n",
    "\n",
    "print(f\"Custom Model MSE: {custom_mse}\")\n",
    "print(f\"Custom Model MAE: {custom_mae}\")\n",
    "print(f\"Custom Model R² Score: {custom_r2}\\n\")\n",
    "\n",
    "print(f\"Sklearn Model MSE: {sklearn_mse}\")\n",
    "print(f\"Sklearn Model MAE: {sklearn_mae}\")\n",
    "print(f\"Sklearn Model R² Score: {sklearn_r2}\\n\")\n",
    "\n",
    "custom_values = [custom_mse, custom_mae, custom_r2]\n",
    "sklearn_values = [sklearn_mse, sklearn_mae, sklearn_r2]\n",
    "metric_labels = ['MSE', 'MAE', 'R²']\n",
    "\n",
    "fig, axs = plt.subplots(1, 3, figsize=(15, 5))\n",
    "axs[0].bar(['Custom ElasticNet', 'Sklearn ElasticNet'], [custom_mse, sklearn_mse], color=['blue', 'red'])\n",
    "axs[0].set_title('Mean Squared Error (MSE)')\n",
    "axs[0].set_ylabel('MSE')\n",
    "axs[0].grid(axis='y')\n",
    "axs[1].bar(['Custom ElasticNet', 'Sklearn ElasticNet'], [custom_mae, sklearn_mae], color=['blue', 'red'])\n",
    "axs[1].set_title('Mean Absolute Error (MAE)')\n",
    "axs[1].set_ylabel('MAE')\n",
    "axs[1].grid(axis='y')\n",
    "\n",
    "axs[2].bar(['Custom ElasticNet', 'Sklearn ElasticNet'], [custom_r2, sklearn_r2], color=['blue', 'red'])\n",
    "axs[2].set_title('R² Score')\n",
    "axs[2].set_ylabel('R²')\n",
    "axs[2].grid(axis='y')\n",
    "\n",
    "fig.suptitle('Model Performance Comparison')\n",
    "\n",
    "plt.tight_layout(rect=[0, 0, 1, 0.95])\n",
    "plt.show()\n",
    "\n"
   ]
  },
  {
   "cell_type": "markdown",
   "metadata": {},
   "source": [
    "# Heart Disease DataSet Using Our ElasticNet Model"
   ]
  },
  {
   "cell_type": "code",
   "execution_count": 253,
   "metadata": {},
   "outputs": [
    {
     "data": {
      "text/plain": [
       "Traceback (most recent call last):\n",
       "  File \"c:\\Users\\Asus\\.vscode\\extensions\\ms-python.python-2024.16.1-win32-x64\\python_files\\python_server.py\", line 130, in exec_user_input\n",
       "    retval = callable_(user_input, user_globals)\n",
       "             ^^^^^^^^^^^^^^^^^^^^^^^^^^^^^^^^^^^\n",
       "  File \"<string>\", line 1, in <module>\n",
       "  File \"C:\\Users\\Asus\\AppData\\Local\\Programs\\Python\\Python311\\Lib\\site-packages\\pandas\\io\\parsers\\readers.py\", line 912, in read_csv\n",
       "    return _read(filepath_or_buffer, kwds)\n",
       "           ^^^^^^^^^^^^^^^^^^^^^^^^^^^^^^^\n",
       "  File \"C:\\Users\\Asus\\AppData\\Local\\Programs\\Python\\Python311\\Lib\\site-packages\\pandas\\io\\parsers\\readers.py\", line 577, in _read\n",
       "    parser = TextFileReader(filepath_or_buffer, **kwds)\n",
       "             ^^^^^^^^^^^^^^^^^^^^^^^^^^^^^^^^^^^^^^^^^^\n",
       "  File \"C:\\Users\\Asus\\AppData\\Local\\Programs\\Python\\Python311\\Lib\\site-packages\\pandas\\io\\parsers\\readers.py\", line 1407, in __init__\n",
       "    self._engine = self._make_engine(f, self.engine)\n",
       "                   ^^^^^^^^^^^^^^^^^^^^^^^^^^^^^^^^^\n",
       "  File \"C:\\Users\\Asus\\AppData\\Local\\Programs\\Python\\Python311\\Lib\\site-packages\\pandas\\io\\parsers\\readers.py\", line 1661, in _make_engine\n",
       "    self.handles = get_handle(\n",
       "                   ^^^^^^^^^^^\n",
       "  File \"C:\\Users\\Asus\\AppData\\Local\\Programs\\Python\\Python311\\Lib\\site-packages\\pandas\\io\\common.py\", line 859, in get_handle\n",
       "    handle = open(\n",
       "             ^^^^^\n",
       "FileNotFoundError: [Errno 2] No such file or directory: 'DATASET/heart-disease.csv'\n",
       "\n"
      ]
     },
     "metadata": {},
     "output_type": "display_data"
    }
   ],
   "source": [
    "Heart_Disease_df = pd.read_csv(\"DATASET/heart-disease.csv\")\n",
    "\n",
    "hd_X = Heart_Disease_df.drop(\"target\", axis=1)\n",
    "hd_y = Heart_Disease_df['target']\n",
    "\n",
    "hd_X.shape, hd_y.shape"
   ]
  },
  {
   "cell_type": "code",
   "execution_count": 254,
   "metadata": {},
   "outputs": [
    {
     "data": {
      "text/plain": [
       "Traceback (most recent call last):\n",
       "  File \"c:\\Users\\Asus\\.vscode\\extensions\\ms-python.python-2024.16.1-win32-x64\\python_files\\python_server.py\", line 130, in exec_user_input\n",
       "    retval = callable_(user_input, user_globals)\n",
       "             ^^^^^^^^^^^^^^^^^^^^^^^^^^^^^^^^^^^\n",
       "  File \"<string>\", line 1, in <module>\n",
       "NameError: name 'hd_X' is not defined\n",
       "\n"
      ]
     },
     "metadata": {},
     "output_type": "display_data"
    }
   ],
   "source": [
    "hd_X_train, hd_X_test, hd_y_train, hd_y_test = train_test_split(hd_X,hd_y, test_size=0.2)\n",
    "\n",
    "hd_X_train.shape, hd_X_test.shape, hd_y_train.shape, hd_y_test.shape"
   ]
  },
  {
   "cell_type": "code",
   "execution_count": 255,
   "metadata": {},
   "outputs": [
    {
     "data": {
      "text/plain": [
       "Traceback (most recent call last):\n",
       "  File \"c:\\Users\\Asus\\.vscode\\extensions\\ms-python.python-2024.16.1-win32-x64\\python_files\\python_server.py\", line 130, in exec_user_input\n",
       "    retval = callable_(user_input, user_globals)\n",
       "             ^^^^^^^^^^^^^^^^^^^^^^^^^^^^^^^^^^^\n",
       "  File \"<string>\", line 1, in <module>\n",
       "NameError: name 'hd_X_train' is not defined\n",
       "\n"
      ]
     },
     "metadata": {},
     "output_type": "display_data"
    }
   ],
   "source": [
    "hd_X_train_std, hd_X_test_std = standardize(hd_X_train, hd_X_test)\n",
    "\n",
    "hd_X_train_std.shape, hd_X_test_std.shape"
   ]
  },
  {
   "cell_type": "code",
   "execution_count": 256,
   "metadata": {},
   "outputs": [
    {
     "data": {
      "text/plain": [
       "Traceback (most recent call last):\n",
       "  File \"c:\\Users\\Asus\\.vscode\\extensions\\ms-python.python-2024.16.1-win32-x64\\python_files\\python_server.py\", line 130, in exec_user_input\n",
       "    retval = callable_(user_input, user_globals)\n",
       "             ^^^^^^^^^^^^^^^^^^^^^^^^^^^^^^^^^^^\n",
       "  File \"<string>\", line 6, in <module>\n",
       "NameError: name 'hd_X_train_std' is not defined\n",
       "\n"
      ]
     },
     "metadata": {},
     "output_type": "display_data"
    }
   ],
   "source": [
    "hd_model = ElasticNetModel(alpha = 0.01,\n",
    "                   penalty_ratio = 0.1,\n",
    "                   learning_rate =0.001,\n",
    "                   iterations= 10000)\n",
    "\n",
    "hd_model.ourfit(hd_X_train_std.values, hd_y_train.values)\n",
    "\n",
    "hd_SkModel = ElasticNet(alpha =0.01,\n",
    "                             l1_ratio= 0.5,\n",
    "                             max_iter=10000)\n",
    "hd_SkModel.fit(hd_X_train_std.values, hd_y_train.values)"
   ]
  },
  {
   "cell_type": "code",
   "execution_count": 257,
   "metadata": {},
   "outputs": [
    {
     "data": {
      "text/plain": [
       "Traceback (most recent call last):\n",
       "  File \"c:\\Users\\Asus\\.vscode\\extensions\\ms-python.python-2024.16.1-win32-x64\\python_files\\python_server.py\", line 130, in exec_user_input\n",
       "    retval = callable_(user_input, user_globals)\n",
       "             ^^^^^^^^^^^^^^^^^^^^^^^^^^^^^^^^^^^\n",
       "  File \"<string>\", line 1, in <module>\n",
       "NameError: name 'hd_X_test_std' is not defined\n",
       "\n"
      ]
     },
     "metadata": {},
     "output_type": "display_data"
    }
   ],
   "source": [
    "hd_y_pred =  hd_model.predict(hd_X_test_std.values)\n",
    "Skhd_y_pred =  hd_model.predict(hd_X_test_std.values)"
   ]
  },
  {
   "cell_type": "code",
   "execution_count": 258,
   "metadata": {},
   "outputs": [
    {
     "data": {
      "text/plain": [
       "Traceback (most recent call last):\n",
       "  File \"c:\\Users\\Asus\\.vscode\\extensions\\ms-python.python-2024.16.1-win32-x64\\python_files\\python_server.py\", line 130, in exec_user_input\n",
       "    retval = callable_(user_input, user_globals)\n",
       "             ^^^^^^^^^^^^^^^^^^^^^^^^^^^^^^^^^^^\n",
       "  File \"<string>\", line 2, in <module>\n",
       "NameError: name 'hd_y_test' is not defined\n",
       "\n"
      ]
     },
     "metadata": {},
     "output_type": "display_data"
    }
   ],
   "source": [
    "hd_comparison_df = pd.DataFrame({\n",
    "    'Actual Values': hd_y_test.values,\n",
    "    'Predicted Values': hd_y_pred\n",
    "})\n",
    "\n",
    "Skhd_comparison_df = pd.DataFrame({\n",
    "    'Actual Values': hd_y_test.values,\n",
    "    'Predicted Values': Skhd_y_pred\n",
    "})\n",
    "\n",
    "hd_comparison_df[\"difference\"] = hd_comparison_df['Actual Values'] - hd_comparison_df['Predicted Values']\n",
    "Skhd_comparison_df[\"difference\"] = Skhd_comparison_df['Actual Values'] - Skhd_comparison_df['Predicted Values']\n"
   ]
  },
  {
   "cell_type": "code",
   "execution_count": 259,
   "metadata": {},
   "outputs": [
    {
     "data": {
      "text/plain": [
       "Traceback (most recent call last):\n",
       "  File \"c:\\Users\\Asus\\.vscode\\extensions\\ms-python.python-2024.16.1-win32-x64\\python_files\\python_server.py\", line 130, in exec_user_input\n",
       "    retval = callable_(user_input, user_globals)\n",
       "             ^^^^^^^^^^^^^^^^^^^^^^^^^^^^^^^^^^^\n",
       "  File \"<string>\", line 3, in <module>\n",
       "NameError: name 'hd_comparison_df' is not defined\n",
       "\n"
      ]
     },
     "metadata": {},
     "output_type": "display_data"
    }
   ],
   "source": [
    "fig, axs = plt.subplots(1, 2, figsize=(15, 6))\n",
    "\n",
    "axs[0].scatter(hd_comparison_df.index, hd_comparison_df['Actual Values'], color='blue', label='Actual Values', marker='o')\n",
    "axs[0].scatter(hd_comparison_df.index, hd_comparison_df['Predicted Values'], color='red', label='Predicted Values', marker='x')\n",
    "axs[0].plot(hd_comparison_df.index, hd_comparison_df['Actual Values'], color='blue', alpha=0.5)\n",
    "axs[0].plot(hd_comparison_df.index, hd_comparison_df['Predicted Values'], color='red', alpha=0.5)\n",
    "axs[0].set_title('Actual vs Predicted Values - Custom ElasticNet')\n",
    "axs[0].set_xlabel('Index')\n",
    "axs[0].set_ylabel('Values')\n",
    "axs[0].legend()\n",
    "axs[0].grid()\n",
    "\n",
    "axs[1].scatter(Skhd_comparison_df.index, Skhd_comparison_df['Actual Values'], color='blue', label='Actual Values', marker='o')\n",
    "axs[1].scatter(Skhd_comparison_df.index, Skhd_comparison_df['Predicted Values'], color='red', label='Predicted Values', marker='x')\n",
    "axs[1].plot(Skhd_comparison_df.index, Skhd_comparison_df['Actual Values'], color='blue', alpha=0.5)\n",
    "axs[1].plot(Skhd_comparison_df.index, Skhd_comparison_df['Predicted Values'], color='red', alpha=0.5)\n",
    "axs[1].set_title('Actual vs Predicted Values - Sklearn ElasticNet')\n",
    "axs[1].set_xlabel('Index')\n",
    "axs[1].legend()\n",
    "axs[1].grid()\n",
    "\n",
    "plt.tight_layout()\n",
    "plt.show()\n",
    "\n",
    "custom_mse = np.square(hd_comparison_df[\"difference\"]).mean()\n",
    "custom_mae = np.abs(hd_comparison_df['difference']).mean()\n",
    "custom_r2 = waves35_model.r2_score(waves35_y_test.values, waves35_y_pred)\n",
    "\n",
    "sklearn_mse = np.square(Skhd_comparison_df[\"difference\"]).mean()\n",
    "sklearn_mae = np.abs(Skhd_comparison_df['difference']).mean()\n",
    "sklearn_r2 = waves35_model.r2_score(waves35_y_test.values, Skwaves35_y_pred)\n",
    "\n",
    "print(f\"Custom Model MSE: {custom_mse}\")\n",
    "print(f\"Custom Model MAE: {custom_mae}\")\n",
    "print(f\"Custom Model R² Score: {custom_r2}\\n\")\n",
    "\n",
    "print(f\"Sklearn Model MSE: {sklearn_mse}\")\n",
    "print(f\"Sklearn Model MAE: {sklearn_mae}\")\n",
    "print(f\"Sklearn Model R² Score: {sklearn_r2}\\n\")\n",
    "\n",
    "custom_values = [custom_mse, custom_mae, custom_r2]\n",
    "sklearn_values = [sklearn_mse, sklearn_mae, sklearn_r2]\n",
    "metric_labels = ['MSE', 'MAE', 'R²']\n",
    "\n",
    "fig, axs = plt.subplots(1, 3, figsize=(15, 5))\n",
    "\n",
    "axs[0].bar(['Custom ElasticNet', 'Sklearn ElasticNet'], [custom_mse, sklearn_mse], color=['blue', 'red'])\n",
    "axs[0].set_title('Mean Squared Error (MSE)')\n",
    "axs[0].set_ylabel('MSE')\n",
    "axs[0].grid(axis='y')\n",
    "\n",
    "axs[1].bar(['Custom ElasticNet', 'Sklearn ElasticNet'], [custom_mae, sklearn_mae], color=['blue', 'red'])\n",
    "axs[1].set_title('Mean Absolute Error (MAE)')\n",
    "axs[1].set_ylabel('MAE')\n",
    "axs[1].grid(axis='y')\n",
    "\n",
    "axs[2].bar(['Custom ElasticNet', 'Sklearn ElasticNet'], [custom_r2, sklearn_r2], color=['blue', 'red'])\n",
    "axs[2].set_title('R² Score')\n",
    "axs[2].set_ylabel('R²')\n",
    "axs[2].grid(axis='y')\n",
    "\n",
    "fig.suptitle('Model Performance Comparison')\n",
    "\n",
    "plt.tight_layout(rect=[0, 0, 1, 0.95])\n",
    "plt.show()\n",
    "\n"
   ]
  },
  {
   "cell_type": "markdown",
   "metadata": {},
   "source": [
    "# Using Generated Data for Our Model"
   ]
  },
  {
   "cell_type": "code",
   "execution_count": 260,
   "metadata": {},
   "outputs": [
    {
     "data": {
      "text/plain": [
       "((1000, 10), (1000,))"
      ]
     },
     "execution_count": 260,
     "metadata": {},
     "output_type": "execute_result"
    }
   ],
   "source": [
    "gen_X, gen_y = gen_data(1000,10)\n",
    "\n",
    "gen_X.shape, gen_y.shape"
   ]
  },
  {
   "cell_type": "code",
   "execution_count": 261,
   "metadata": {},
   "outputs": [
    {
     "data": {
      "text/plain": [
       "((800, 10), (200, 10), (800,), (200,))"
      ]
     },
     "execution_count": 261,
     "metadata": {},
     "output_type": "execute_result"
    }
   ],
   "source": [
    "gen_X_train, gen_X_test, gen_y_train, gen_y_test = train_test_split(gen_X,gen_y, test_size=0.2)\n",
    "\n",
    "gen_X_train.shape, gen_X_test.shape, gen_y_train.shape, gen_y_test.shape"
   ]
  },
  {
   "cell_type": "code",
   "execution_count": 262,
   "metadata": {},
   "outputs": [
    {
     "data": {
      "text/plain": [
       "((800, 10), (200, 10))"
      ]
     },
     "execution_count": 262,
     "metadata": {},
     "output_type": "execute_result"
    }
   ],
   "source": [
    "gen_X_train_std, gen_X_test_std = standardize(gen_X_train, gen_X_test)\n",
    "\n",
    "gen_X_train_std.shape, gen_X_test_std.shape"
   ]
  },
  {
   "cell_type": "code",
   "execution_count": 263,
   "metadata": {},
   "outputs": [
    {
     "data": {
      "text/plain": [
       "Traceback (most recent call last):\n",
       "  File \"c:\\Users\\Asus\\.vscode\\extensions\\ms-python.python-2024.16.1-win32-x64\\python_files\\python_server.py\", line 130, in exec_user_input\n",
       "    retval = callable_(user_input, user_globals)\n",
       "             ^^^^^^^^^^^^^^^^^^^^^^^^^^^^^^^^^^^\n",
       "  File \"<string>\", line 8, in <module>\n",
       "NameError: name 'ElasticNet' is not defined\n",
       "\n"
      ]
     },
     "metadata": {},
     "output_type": "display_data"
    }
   ],
   "source": [
    "gen_model = ElasticNetModel(alpha = 0.01,\n",
    "                   penalty_ratio = 0.1,\n",
    "                   learning_rate =0.001,\n",
    "                   iterations= 10000)\n",
    "\n",
    "gen_model.ourfit(gen_X_train_std.values, gen_y_train.values)\n",
    "\n",
    "gen_SkModel = ElasticNet(alpha =0.01,\n",
    "                             l1_ratio= 0.5,\n",
    "                             max_iter=10000)\n",
    "gen_SkModel.fit(gen_X_train_std.values, gen_y_train.values)"
   ]
  },
  {
   "cell_type": "code",
   "execution_count": 264,
   "metadata": {},
   "outputs": [
    {
     "data": {
      "text/plain": [
       "Traceback (most recent call last):\n",
       "  File \"c:\\Users\\Asus\\.vscode\\extensions\\ms-python.python-2024.16.1-win32-x64\\python_files\\python_server.py\", line 130, in exec_user_input\n",
       "    retval = callable_(user_input, user_globals)\n",
       "             ^^^^^^^^^^^^^^^^^^^^^^^^^^^^^^^^^^^\n",
       "  File \"<string>\", line 2, in <module>\n",
       "NameError: name 'gen_SkModel' is not defined\n",
       "\n"
      ]
     },
     "metadata": {},
     "output_type": "display_data"
    }
   ],
   "source": [
    "gen_y_pred =  gen_model.predict(gen_X_test_std.values)\n",
    "Skgen_y_pred =  gen_SkModel.predict(gen_X_test_std.values)"
   ]
  },
  {
   "cell_type": "code",
   "execution_count": 265,
   "metadata": {},
   "outputs": [
    {
     "data": {
      "text/plain": [
       "Traceback (most recent call last):\n",
       "  File \"c:\\Users\\Asus\\.vscode\\extensions\\ms-python.python-2024.16.1-win32-x64\\python_files\\python_server.py\", line 130, in exec_user_input\n",
       "    retval = callable_(user_input, user_globals)\n",
       "             ^^^^^^^^^^^^^^^^^^^^^^^^^^^^^^^^^^^\n",
       "  File \"<string>\", line 8, in <module>\n",
       "NameError: name 'Skgen_y_pred' is not defined\n",
       "\n"
      ]
     },
     "metadata": {},
     "output_type": "display_data"
    }
   ],
   "source": [
    "gen_comparison_df = pd.DataFrame({\n",
    "    'Actual Values': gen_y_test.values,\n",
    "    'Predicted Values': gen_y_pred\n",
    "})\n",
    "\n",
    "Skgen_comparison_df = pd.DataFrame({\n",
    "    'Actual Values': gen_y_test.values,\n",
    "    'Predicted Values': Skgen_y_pred\n",
    "})\n",
    "\n",
    "gen_comparison_df[\"difference\"] = gen_comparison_df['Actual Values'] - gen_comparison_df['Predicted Values']\n",
    "Skgen_comparison_df[\"difference\"] = Skgen_comparison_df['Actual Values'] - Skgen_comparison_df['Predicted Values']"
   ]
  },
  {
   "cell_type": "code",
   "execution_count": 270,
   "metadata": {},
   "outputs": [
    {
     "data": {
      "text/plain": [
       "Traceback (most recent call last):\n",
       "  File \"c:\\Users\\Asus\\.vscode\\extensions\\ms-python.python-2024.16.1-win32-x64\\python_files\\python_server.py\", line 130, in exec_user_input\n",
       "    retval = callable_(user_input, user_globals)\n",
       "             ^^^^^^^^^^^^^^^^^^^^^^^^^^^^^^^^^^^\n",
       "  File \"<string>\", line 13, in <module>\n",
       "NameError: name 'Skgen_comparison_df' is not defined\n",
       "\n"
      ]
     },
     "metadata": {},
     "output_type": "display_data"
    }
   ],
   "source": [
    "fig, axs = plt.subplots(1, 2, figsize=(15, 6))\n",
    "\n",
    "axs[0].scatter(gen_comparison_df.index, gen_comparison_df['Actual Values'], color='blue', label='Actual Values', marker='o')\n",
    "axs[0].scatter(gen_comparison_df.index, gen_comparison_df['Predicted Values'], color='red', label='Predicted Values', marker='x')\n",
    "axs[0].plot(gen_comparison_df.index, gen_comparison_df['Actual Values'], color='blue', alpha=0.5)\n",
    "axs[0].plot(gen_comparison_df.index, gen_comparison_df['Predicted Values'], color='red', alpha=0.5)\n",
    "axs[0].set_title('Actual vs Predicted Values - Custom ElasticNet')\n",
    "axs[0].set_xlabel('Index')\n",
    "axs[0].set_ylabel('Values')\n",
    "axs[0].legend()\n",
    "axs[0].grid()\n",
    "\n",
    "axs[1].scatter(Skgen_comparison_df.index, Skgen_comparison_df['Actual Values'], color='blue', label='Actual Values', marker='o')\n",
    "axs[1].scatter(Skgen_comparison_df.index, Skgen_comparison_df['Predicted Values'], color='red', label='Predicted Values', marker='x')\n",
    "axs[1].plot(Skgen_comparison_df.index, Skgen_comparison_df['Actual Values'], color='blue', alpha=0.5)\n",
    "axs[1].plot(Skgen_comparison_df.index, Skgen_comparison_df['Predicted Values'], color='red', alpha=0.5)\n",
    "axs[1].set_title('Actual vs Predicted Values - Sklearn ElasticNet')\n",
    "axs[1].set_xlabel('Index')\n",
    "axs[1].legend()\n",
    "axs[1].grid()\n",
    "\n",
    "plt.tight_layout()\n",
    "plt.show()\n",
    "\n",
    "custom_mse = np.square(gen_comparison_df[\"difference\"]).mean()\n",
    "custom_mae = np.abs(gen_comparison_df['difference']).mean()\n",
    "custom_r2 = gen_model.r2_score(gen_y_test.values, gen_y_pred)\n",
    "\n",
    "sklearn_mse = np.square(Skgen_comparison_df[\"difference\"]).mean()\n",
    "sklearn_mae = np.abs(Skgen_comparison_df['difference']).mean()\n",
    "sklearn_r2 = gen_model.r2_score(gen_y_test.values, Skgen_y_pred)\n",
    "\n",
    "print(f\"Custom Model MSE: {custom_mse}\")\n",
    "print(f\"Custom Model MAE: {custom_mae}\")\n",
    "print(f\"Custom Model R² Score: {custom_r2}\\n\")\n",
    "\n",
    "print(f\"Sklearn Model MSE: {sklearn_mse}\")\n",
    "print(f\"Sklearn Model MAE: {sklearn_mae}\")\n",
    "print(f\"Sklearn Model R² Score: {sklearn_r2}\\n\")\n",
    "\n",
    "custom_values = [custom_mse, custom_mae, custom_r2]\n",
    "sklearn_values = [sklearn_mse, sklearn_mae, sklearn_r2]\n",
    "metric_labels = ['MSE', 'MAE', 'R²']\n",
    "\n",
    "fig, axs = plt.subplots(1, 3, figsize=(15, 5))\n",
    "\n",
    "axs[0].bar(['Custom ElasticNet', 'Sklearn ElasticNet'], [custom_mse, sklearn_mse], color=['blue', 'red'])\n",
    "axs[0].set_title('Mean Squared Error (MSE)')\n",
    "axs[0].set_ylabel('MSE')\n",
    "axs[0].grid(axis='y')\n",
    "\n",
    "axs[1].bar(['Custom ElasticNet', 'Sklearn ElasticNet'], [custom_mae, sklearn_mae], color=['blue', 'red'])\n",
    "axs[1].set_title('Mean Absolute Error (MAE)')\n",
    "axs[1].set_ylabel('MAE')\n",
    "axs[1].grid(axis='y')\n",
    "\n",
    "axs[2].bar(['Custom ElasticNet', 'Sklearn ElasticNet'], [custom_r2, sklearn_r2], color=['blue', 'red'])\n",
    "axs[2].set_title('R² Score')\n",
    "axs[2].set_ylabel('R²')\n",
    "axs[2].grid(axis='y')\n",
    "\n",
    "fig.suptitle('Model Performance Comparison')\n",
    "\n",
    "plt.tight_layout(rect=[0, 0, 1, 0.95])\n",
    "plt.show()\n",
    "\n"
   ]
  },
  {
   "cell_type": "markdown",
   "metadata": {},
   "source": [
    "# Using Professor Generated Code for our ElasticNet Model"
   ]
  },
  {
   "cell_type": "code",
   "execution_count": 161,
   "metadata": {},
   "outputs": [
    {
     "data": {
      "text/plain": [
       "((1000, 3), (1000,))"
      ]
     },
     "execution_count": 161,
     "metadata": {},
     "output_type": "execute_result"
    }
   ],
   "source": [
    "m = [2, 3, 4]  \n",
    "N = 1000  \n",
    "b = 5  \n",
    "rnge = [-10, 10]  \n",
    "scale = 0.4  \n",
    "random_seed = 10  \n",
    "\n",
    "prof_X , prof_y = linear_data_generator(m , N , b , rnge, scale, random_seed)\n",
    "prof_X.shape, prof_y.shape\n"
   ]
  },
  {
   "cell_type": "code",
   "execution_count": 162,
   "metadata": {},
   "outputs": [
    {
     "data": {
      "text/plain": [
       "((800, 3), (200, 3), (800,), (200,))"
      ]
     },
     "execution_count": 162,
     "metadata": {},
     "output_type": "execute_result"
    }
   ],
   "source": [
    "prof_X_train, prof_X_test, prof_y_train, prof_y_test = train_test_split(prof_X,prof_y, test_size=0.2)\n",
    "\n",
    "prof_X_train.shape, prof_X_test.shape, prof_y_train.shape, prof_y_test.shape"
   ]
  },
  {
   "cell_type": "code",
   "execution_count": 163,
   "metadata": {},
   "outputs": [
    {
     "data": {
      "text/plain": [
       "((800, 3), (200, 3))"
      ]
     },
     "execution_count": 163,
     "metadata": {},
     "output_type": "execute_result"
    }
   ],
   "source": [
    "prof_X_train_std, prof_X_test_std = standardize(prof_X_train, prof_X_test)\n",
    "\n",
    "prof_X_train_std.shape, prof_X_test_std.shape"
   ]
  },
  {
   "cell_type": "code",
   "execution_count": 164,
   "metadata": {},
   "outputs": [
    {
     "data": {
      "text/plain": [
       "Traceback (most recent call last):\n",
       "  File \"c:\\Users\\Asus\\.vscode\\extensions\\ms-python.python-2024.16.1-win32-x64\\python_files\\python_server.py\", line 130, in exec_user_input\n",
       "    retval = callable_(user_input, user_globals)\n",
       "             ^^^^^^^^^^^^^^^^^^^^^^^^^^^^^^^^^^^\n",
       "  File \"<string>\", line 6, in <module>\n",
       "NameError: name 'ElasticNet' is not defined\n",
       "\n"
      ]
     },
     "metadata": {},
     "output_type": "display_data"
    }
   ],
   "source": [
    "prof_X_train_std_np = prof_X_train_std.values if isinstance(prof_X_train_std, pd.DataFrame) else prof_X_train_std\n",
    "prof_y_train_np = prof_y_train.values if isinstance(prof_y_train, pd.Series) else prof_y_train\n",
    "prof_X_test_std_np = prof_X_test_std.values if isinstance(prof_X_test_std, pd.DataFrame) else prof_X_test_std\n",
    "prof_y_test_np = prof_y_test.values if isinstance(prof_y_test, pd.Series) else prof_y_test\n",
    "\n",
    "prof_model = ElasticNet(alpha = 0.01,\n",
    "                   penalty_ratio = 0.1,\n",
    "                   learning_rate =0.001,\n",
    "                   iterations= 10000)\n",
    "\n",
    "prof_model.fit(prof_X_train_std_np, prof_y_train_np)"
   ]
  },
  {
   "cell_type": "code",
   "execution_count": 168,
   "metadata": {},
   "outputs": [
    {
     "data": {
      "text/plain": [
       "Traceback (most recent call last):\n",
       "  File \"c:\\Users\\Asus\\.vscode\\extensions\\ms-python.python-2024.16.1-win32-x64\\python_files\\python_server.py\", line 130, in exec_user_input\n",
       "    retval = callable_(user_input, user_globals)\n",
       "             ^^^^^^^^^^^^^^^^^^^^^^^^^^^^^^^^^^^\n",
       "  File \"<string>\", line 1, in <module>\n",
       "NameError: name 'prof_model' is not defined\n",
       "\n"
      ]
     },
     "metadata": {},
     "output_type": "display_data"
    }
   ],
   "source": [
    "prof_y_pred =  prof_model.predict(prof_X_test_std_np)"
   ]
  },
  {
   "cell_type": "code",
   "execution_count": 169,
   "metadata": {},
   "outputs": [
    {
     "data": {
      "text/plain": [
       "Traceback (most recent call last):\n",
       "  File \"c:\\Users\\Asus\\.vscode\\extensions\\ms-python.python-2024.16.1-win32-x64\\python_files\\python_server.py\", line 130, in exec_user_input\n",
       "    retval = callable_(user_input, user_globals)\n",
       "             ^^^^^^^^^^^^^^^^^^^^^^^^^^^^^^^^^^^\n",
       "  File \"<string>\", line 3, in <module>\n",
       "NameError: name 'prof_y_pred' is not defined\n",
       "\n"
      ]
     },
     "metadata": {},
     "output_type": "display_data"
    }
   ],
   "source": [
    "prof_comparison_df = pd.DataFrame({\n",
    "        'Actual Values': prof_y_test_np,\n",
    "        'Predicted Values': prof_y_pred\n",
    "    })\n",
    "prof_comparison_df.head(10)"
   ]
  },
  {
   "cell_type": "code",
   "execution_count": 170,
   "metadata": {},
   "outputs": [
    {
     "data": {
      "text/plain": [
       "Traceback (most recent call last):\n",
       "  File \"c:\\Users\\Asus\\.vscode\\extensions\\ms-python.python-2024.16.1-win32-x64\\python_files\\python_server.py\", line 130, in exec_user_input\n",
       "    retval = callable_(user_input, user_globals)\n",
       "             ^^^^^^^^^^^^^^^^^^^^^^^^^^^^^^^^^^^\n",
       "  File \"<string>\", line 2, in <module>\n",
       "NameError: name 'prof_comparison_df' is not defined\n",
       "\n"
      ]
     },
     "metadata": {},
     "output_type": "display_data"
    }
   ],
   "source": [
    "plt.figure(figsize=(10, 6))\n",
    "plt.scatter(prof_comparison_df.index, prof_comparison_df['Actual Values'], color='blue', label='Actual Values', marker='o')\n",
    "plt.scatter(prof_comparison_df.index, prof_comparison_df['Predicted Values'], color='red', label='Predicted Values', marker='x')\n",
    "plt.plot(prof_comparison_df.index, prof_comparison_df['Actual Values'], color='blue', alpha=0.5)\n",
    "plt.plot(prof_comparison_df.index, prof_comparison_df['Predicted Values'], color='red', alpha=0.5)\n",
    "\n",
    "plt.title('Actual vs Predicted Values Comparison')\n",
    "plt.xlabel('Index')\n",
    "plt.ylabel('Values')\n",
    "plt.axhline(0, color='black', linewidth=1.5, ls='--')\n",
    "plt.axvline(0, color='black', linewidth=1.5, ls='--')\n",
    "plt.legend()\n",
    "plt.grid()\n",
    "\n",
    "plt.tight_layout()\n",
    "plt.show()"
   ]
  },
  {
   "cell_type": "code",
   "execution_count": 171,
   "metadata": {},
   "outputs": [
    {
     "data": {
      "text/plain": [
       "Traceback (most recent call last):\n",
       "  File \"c:\\Users\\Asus\\.vscode\\extensions\\ms-python.python-2024.16.1-win32-x64\\python_files\\python_server.py\", line 130, in exec_user_input\n",
       "    retval = callable_(user_input, user_globals)\n",
       "             ^^^^^^^^^^^^^^^^^^^^^^^^^^^^^^^^^^^\n",
       "  File \"<string>\", line 1, in <module>\n",
       "NameError: name 'prof_comparison_df' is not defined\n",
       "\n"
      ]
     },
     "metadata": {},
     "output_type": "display_data"
    }
   ],
   "source": [
    "prof_comparison_df[\"difference\"] = prof_comparison_df['Actual Values'] - prof_comparison_df['Predicted Values']\n",
    "\n",
    "prof_comparison_df.head(10)"
   ]
  },
  {
   "cell_type": "code",
   "execution_count": 172,
   "metadata": {},
   "outputs": [
    {
     "data": {
      "text/plain": [
       "Traceback (most recent call last):\n",
       "  File \"c:\\Users\\Asus\\.vscode\\extensions\\ms-python.python-2024.16.1-win32-x64\\python_files\\python_server.py\", line 130, in exec_user_input\n",
       "    retval = callable_(user_input, user_globals)\n",
       "             ^^^^^^^^^^^^^^^^^^^^^^^^^^^^^^^^^^^\n",
       "  File \"<string>\", line 1, in <module>\n",
       "NameError: name 'prof_comparison_df' is not defined\n",
       "\n"
      ]
     },
     "metadata": {},
     "output_type": "display_data"
    }
   ],
   "source": [
    "mse = np.square(prof_comparison_df[\"difference\"]).mean()\n",
    "\n",
    "print(f\"Mean Squared Error on Test Set : {mse}\")\n",
    "\n",
    "mae = np.abs(prof_comparison_df['difference']).mean()\n",
    "\n",
    "print(f\"Mean Absolute Error on Test Set : {mae}\")\n",
    "\n",
    "r2 = prof_model.r2_score(prof_y_test, prof_y_pred)\n",
    "print(f\"R² Score on Test Set : {r2}\")"
   ]
  },
  {
   "cell_type": "code",
   "execution_count": 187,
   "metadata": {},
   "outputs": [
    {
     "data": {
      "text/plain": [
       "Traceback (most recent call last):\n",
       "  File \"c:\\Users\\Asus\\.vscode\\extensions\\ms-python.python-2024.16.1-win32-x64\\python_files\\python_server.py\", line 130, in exec_user_input\n",
       "    retval = callable_(user_input, user_globals)\n",
       "             ^^^^^^^^^^^^^^^^^^^^^^^^^^^^^^^^^^^\n",
       "  File \"<string>\", line 3, in <module>\n",
       "NameError: name 'prof_comparison_df' is not defined\n",
       "\n"
      ]
     },
     "metadata": {},
     "output_type": "display_data"
    }
   ],
   "source": [
    "models = ['Professor Model', 'Generated Model', 'HD Model', 'Waves35 Model']\n",
    "mse_values = [\n",
    "    np.square(prof_comparison_df[\"difference\"]).mean(),\n",
    "    np.square(gen_comparison_df[\"difference\"]).mean(),\n",
    "    np.square(hd_comparison_df[\"difference\"]).mean(),\n",
    "    np.square(comparison_df[\"difference\"]).mean()\n",
    "]\n",
    "mae_values = [\n",
    "    np.abs(prof_comparison_df['difference']).mean(),\n",
    "    np.abs(gen_comparison_df['difference']).mean(),\n",
    "    np.abs(hd_comparison_df['difference']).mean(),\n",
    "    np.abs(comparison_df['difference']).mean()\n",
    "]\n",
    "r2_scores = [\n",
    "    prof_model.r2_score(prof_y_test, prof_y_pred),\n",
    "    gen_model.r2_score(gen_y_test.values, gen_y_pred),\n",
    "    hd_model.r2_score(hd_y_test.values, hd_y_pred),\n",
    "    waves35_model.r2_score(waves35_y_test.values, waves35_y_pred)\n",
    "]\n",
    "\n",
    "\n",
    "x = np.arange(len(models))\n",
    "width = 0.5\n",
    "\n",
    "fig, axs = plt.subplots(1, 3, figsize=(20, 8))\n",
    "\n",
    "axs[0].bar(x, mse_values, color='skyblue', width=width)\n",
    "axs[0].set_title('Mean Squared Error (MSE)')\n",
    "axs[0].set_xticks(x)\n",
    "axs[0].set_xticklabels(models)\n",
    "axs[0].set_ylabel('MSE')\n",
    "\n",
    "axs[1].bar(x, mae_values, color='lightgreen', width=width)\n",
    "axs[1].set_title('Mean Absolute Error (MAE)')\n",
    "axs[1].set_xticks(x)\n",
    "axs[1].set_xticklabels(models)\n",
    "axs[1].set_ylabel('MAE')\n",
    "\n",
    "axs[2].bar(x, r2_scores, color='salmon', width=width)\n",
    "axs[2].set_title('R² Score')\n",
    "axs[2].set_xticks(x)\n",
    "axs[2].set_xticklabels(models)\n",
    "axs[2].set_ylabel('R² Score')\n",
    "\n",
    "\n",
    "def autolabel(ax, values):\n",
    "    for i, value in enumerate(values):\n",
    "        ax.text(i, value, f'{value:.2f}', ha='center', va='bottom')\n",
    "\n",
    "autolabel(axs[0], mse_values)\n",
    "autolabel(axs[1], mae_values)\n",
    "autolabel(axs[2], r2_scores)\n",
    "\n",
    "plt.tight_layout()\n",
    "plt.show()\n"
   ]
  },
  {
   "cell_type": "code",
   "execution_count": 186,
   "metadata": {},
   "outputs": [
    {
     "data": {
      "text/plain": [
       "Traceback (most recent call last):\n",
       "  File \"c:\\Users\\Asus\\.vscode\\extensions\\ms-python.python-2024.16.1-win32-x64\\python_files\\python_server.py\", line 130, in exec_user_input\n",
       "    retval = callable_(user_input, user_globals)\n",
       "             ^^^^^^^^^^^^^^^^^^^^^^^^^^^^^^^^^^^\n",
       "  File \"<string>\", line 4, in <module>\n",
       "NameError: name 'comparison_df' is not defined\n",
       "\n"
      ]
     },
     "metadata": {},
     "output_type": "display_data"
    }
   ],
   "source": [
    "fig, axs = plt.subplots(2, 2, figsize=(20, 15))\n",
    "\n",
    "data_frames = [\n",
    "    (comparison_df, 'Waves35 Model'),\n",
    "    (hd_comparison_df, 'HD Model'),\n",
    "    (gen_comparison_df, 'Generated Model'),\n",
    "    (prof_comparison_df, 'Professor Model')\n",
    "]\n",
    "for i, (df, title) in enumerate(data_frames):\n",
    "    row, col = divmod(i, 2) \n",
    "    axs[row, col].scatter(df.index, df['Actual Values'], color='blue', label='Actual Values', marker='o')\n",
    "    axs[row, col].scatter(df.index, df['Predicted Values'], color='red', label='Predicted Values', marker='x')\n",
    "    axs[row, col].plot(df.index, df['Actual Values'], color='blue', alpha=0.5)\n",
    "    axs[row, col].plot(df.index, df['Predicted Values'], color='red', alpha=0.5)\n",
    "    axs[row, col].set_title(f'Actual vs Predicted Values - {title}')\n",
    "    axs[row, col].set_xlabel('Index')\n",
    "    axs[row, col].set_ylabel('Values')\n",
    "    axs[row, col].axhline(0, color='black', linewidth=1.5, ls='--')\n",
    "    axs[row, col].axvline(0, color='black', linewidth=1.5, ls='--')\n",
    "    axs[row, col].legend()\n",
    "    axs[row, col].grid()\n",
    "\n",
    "# plt.tight_layout()\n",
    "plt.show()\n"
   ]
  },
  {
   "cell_type": "code",
   "execution_count": null,
   "metadata": {},
   "outputs": [],
   "source": []
  }
 ],
 "metadata": {
  "kernelspec": {
   "display_name": "Python 3",
   "language": "python",
   "name": "python3"
  },
  "language_info": {
   "codemirror_mode": {
    "name": "ipython",
    "version": 3
   },
   "file_extension": ".py",
   "mimetype": "text/x-python",
   "name": "python",
   "nbconvert_exporter": "python",
   "pygments_lexer": "ipython3",
   "version": "3.11.0"
  }
 },
 "nbformat": 4,
 "nbformat_minor": 2
}
